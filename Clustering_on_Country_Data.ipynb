{
  "nbformat": 4,
  "nbformat_minor": 0,
  "metadata": {
    "colab": {
      "name": "Clustering on Country Data.ipynb",
      "provenance": [],
      "authorship_tag": "ABX9TyOxXPWFb7cHTLoGMjCbxZhu",
      "include_colab_link": true
    },
    "kernelspec": {
      "name": "python3",
      "display_name": "Python 3"
    },
    "language_info": {
      "name": "python"
    }
  },
  "cells": [
    {
      "cell_type": "markdown",
      "metadata": {
        "id": "view-in-github",
        "colab_type": "text"
      },
      "source": [
        "<a href=\"https://colab.research.google.com/github/blessing-mufaro/Clustering-Algorithms-in-Python-/blob/main/Clustering_on_Country_Data.ipynb\" target=\"_parent\"><img src=\"https://colab.research.google.com/assets/colab-badge.svg\" alt=\"Open In Colab\"/></a>"
      ]
    },
    {
      "cell_type": "code",
      "metadata": {
        "id": "0tmbOAeSKrHz"
      },
      "source": [
        "import pandas as pd\n",
        "import numpy as np\n",
        "import matplotlib.pyplot as plt\n"
      ],
      "execution_count": null,
      "outputs": []
    },
    {
      "cell_type": "code",
      "metadata": {
        "id": "48MU-lcrOm4I"
      },
      "source": [
        "data = pd.read_csv('/content/Country-data.csv')\n",
        "print(data)"
      ],
      "execution_count": null,
      "outputs": []
    },
    {
      "cell_type": "code",
      "metadata": {
        "id": "fvstRYOTO10T"
      },
      "source": [
        "X = data.iloc[:,:].values\n",
        "x1 = data.iloc[:,0].values\n",
        "x2 = data.iloc[:,1].values\n"
      ],
      "execution_count": null,
      "outputs": []
    },
    {
      "cell_type": "code",
      "metadata": {
        "colab": {
          "base_uri": "https://localhost:8080/",
          "height": 283
        },
        "id": "9VTnXmF1PKdg",
        "outputId": "624bc026-333d-49bf-ec22-ebb43f471433"
      },
      "source": [
        "plt.scatter(x1,x2)\n",
        "plt.plot()"
      ],
      "execution_count": null,
      "outputs": [
        {
          "output_type": "execute_result",
          "data": {
            "text/plain": [
              "[]"
            ]
          },
          "metadata": {
            "tags": []
          },
          "execution_count": 4
        },
        {
          "output_type": "display_data",
          "data": {
            "image/png": "[encoded data removed]",
            "text/plain": [
              "<Figure size 432x288 with 1 Axes>"
            ]
          },
          "metadata": {
            "tags": [],
            "needs_background": "light"
          }
        }
      ]
    },
    {
      "cell_type": "markdown",
      "metadata": {
        "id": "OJ8q9RFRaSSd"
      },
      "source": [
        "# K Means"
      ]
    },
    {
      "cell_type": "code",
      "metadata": {
        "id": "i5cddvypPYC1"
      },
      "source": [
        "from sklearn.cluster import KMeans\n",
        "\n",
        "kmeans = KMeans(n_clusters=3)\n",
        "labels = kmeans.fit_predict(data)\n",
        "data[\"KMeans\"] = labels\n",
        "centroids = kmeans.cluster_centres_\n",
        "print(\"Centroid values\")\n",
        "print(centroids)"
      ],
      "execution_count": null,
      "outputs": []
    },
    {
      "cell_type": "code",
      "metadata": {
        "id": "XreFnJIEQD0q"
      },
      "source": [
        "print(data)"
      ],
      "execution_count": null,
      "outputs": []
    },
    {
      "cell_type": "code",
      "metadata": {
        "id": "xC8jHwqhQJku"
      },
      "source": [
        "len(x)"
      ],
      "execution_count": null,
      "outputs": []
    },
    {
      "cell_type": "code",
      "metadata": {
        "id": "rI_MbkxyQWYm"
      },
      "source": [
        "k = 3\n",
        "\n",
        "colors = ['r', 'g', 'b']\n",
        "fig, ax = plt.subplots()\n",
        "for i in range(k):\n",
        "  points = np.array(X[j] for j in range(len(X)) if labels[j] == i])\n",
        "                    ax.scatter(points[:,0], points[:,1], c=colors[i])\n",
        "\n",
        "ax.scatter(centroids[:, 0], marker='*', s=500)"
      ],
      "execution_count": null,
      "outputs": []
    },
    {
      "cell_type": "markdown",
      "metadata": {
        "id": "oejlNeSfbCCD"
      },
      "source": [
        "# Mean Shift Clustering"
      ]
    },
    {
      "cell_type": "code",
      "metadata": {
        "id": "qMt8fbOObKKI"
      },
      "source": [
        "print(__doc__)\n",
        "\n",
        "import numpy as np\n",
        "from sklearn.cluster import MeanShift, estimate_bandwidth\n",
        "from sklearn.datasets import make_blobs\n",
        "\n",
        "centers = [[1, 1], [-1, -1], [1, -1]]\n",
        "X, _ = make_blobs(n_samples=10000, centers=centers, cluster_std=0.6)\n",
        "\n",
        "\n",
        "bandwidth = estimate_bandwidth(X, quantile=0.2, n_samples=500)\n",
        "\n",
        "ms = MeanShift(bandwidth=bandwidth, bin_seeding=True)\n",
        "ms.fit(X)\n",
        "labels = ms.labels_\n",
        "cluster_centers = ms.cluster_centers_\n",
        "\n",
        "labels_unique = np.unique(labels)\n",
        "n_clusters_ = len(labels_unique)\n",
        "\n",
        "print(\"number of estimated clusters : %d\" % n_clusters_)\n",
        "\n",
        "import matplotlib.pyplot as plt\n",
        "from itertools import cycle\n",
        "\n",
        "plt.figure(1)\n",
        "plt.clf()\n",
        "\n",
        "colors = cycle('bgrcmykbgrcmykbgrcmykbgrcmyk')\n",
        "for k, col in zip(range(n_clusters_), colors):\n",
        "    my_members = labels == k\n",
        "    cluster_center = cluster_centers[k]\n",
        "    plt.plot(X[my_members, 0], X[my_members, 1], col + '.')\n",
        "    plt.plot(cluster_center[0], cluster_center[1], 'o', markerfacecolor=col,\n",
        "             markeredgecolor='k', markersize=14)\n",
        "plt.title('Estimated number of clusters: %d' % n_clusters_)\n",
        "plt.show()"
      ],
      "execution_count": null,
      "outputs": []
    }
  ]
}